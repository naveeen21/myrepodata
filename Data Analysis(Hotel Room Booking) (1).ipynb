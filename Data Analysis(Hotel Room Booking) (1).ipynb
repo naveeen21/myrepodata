{
 "cells": [
  {
   "cell_type": "code",
   "execution_count": null,
   "id": "fccef58c-18f8-49b3-8fdc-7cbe9b9306d6",
   "metadata": {},
   "outputs": [],
   "source": [
    "#importing Libraries"
   ]
  },
  {
   "cell_type": "code",
   "execution_count": 1,
   "id": "c25e9bc0-6366-4563-8e05-9cd6c1e282cf",
   "metadata": {},
   "outputs": [
    {
     "ename": "ModuleNotFoundError",
     "evalue": "No module named 'pandas'",
     "output_type": "error",
     "traceback": [
      "\u001b[1;31m---------------------------------------------------------------------------\u001b[0m",
      "\u001b[1;31mModuleNotFoundError\u001b[0m                       Traceback (most recent call last)",
      "Cell \u001b[1;32mIn[1], line 1\u001b[0m\n\u001b[1;32m----> 1\u001b[0m \u001b[39mimport\u001b[39;00m \u001b[39mpandas\u001b[39;00m \u001b[39mas\u001b[39;00m \u001b[39mpd\u001b[39;00m\n\u001b[0;32m      2\u001b[0m \u001b[39mimport\u001b[39;00m \u001b[39mmatplotlib\u001b[39;00m\u001b[39m.\u001b[39;00m\u001b[39mpyplot\u001b[39;00m \u001b[39mas\u001b[39;00m \u001b[39mplt\u001b[39;00m\n\u001b[0;32m      3\u001b[0m \u001b[39mimport\u001b[39;00m \u001b[39mseaborn\u001b[39;00m \u001b[39mas\u001b[39;00m \u001b[39msns\u001b[39;00m\n",
      "\u001b[1;31mModuleNotFoundError\u001b[0m: No module named 'pandas'"
     ]
    }
   ],
   "source": [
    "import pandas as pd\n",
    "import matplotlib.pyplot as plt\n",
    "import seaborn as sns\n",
    "import warnings\n",
    "warnings.filterwarnings('ignore')"
   ]
  },
  {
   "cell_type": "code",
   "execution_count": null,
   "id": "9ed35261-45c9-465a-b1e3-7b3f97570ab5",
   "metadata": {},
   "outputs": [],
   "source": [
    "#Loading Dataset"
   ]
  },
  {
   "cell_type": "code",
   "execution_count": null,
   "id": "7fa7c090-c4d6-4bb5-a7dc-06cf49683ad3",
   "metadata": {},
   "outputs": [],
   "source": [
    "df= pd.read_csv('hotel_booking.csv')"
   ]
  },
  {
   "cell_type": "code",
   "execution_count": null,
   "id": "f85cd73c-2e15-475d-979a-0230cf466347",
   "metadata": {},
   "outputs": [],
   "source": [
    "#Exploratory Data Analysis and Data Cleaning"
   ]
  },
  {
   "cell_type": "code",
   "execution_count": null,
   "id": "867fb879-3eb2-4283-8297-e284fa9cfc7c",
   "metadata": {},
   "outputs": [],
   "source": [
    "df.head()"
   ]
  },
  {
   "cell_type": "code",
   "execution_count": null,
   "id": "ee1a1929-a54e-4cf3-9d75-95b4db1de503",
   "metadata": {},
   "outputs": [],
   "source": [
    "df.tail()"
   ]
  },
  {
   "cell_type": "code",
   "execution_count": null,
   "id": "f74b97cc-95c8-4afc-a8ee-b64539d4812a",
   "metadata": {},
   "outputs": [],
   "source": [
    "df.shape"
   ]
  },
  {
   "cell_type": "code",
   "execution_count": null,
   "id": "13f9cc3a-49bf-4b20-981b-d8b4339d2374",
   "metadata": {},
   "outputs": [],
   "source": [
    "df.columns"
   ]
  },
  {
   "cell_type": "code",
   "execution_count": null,
   "id": "e9594033-deac-4881-82b1-28eb620bd55e",
   "metadata": {},
   "outputs": [],
   "source": [
    "df.info()"
   ]
  },
  {
   "cell_type": "code",
   "execution_count": null,
   "id": "2e4b6cae-d5ce-4b77-baf0-9d28dd69bea8",
   "metadata": {},
   "outputs": [],
   "source": [
    "df['reservation_status_date'] = pd.to_datetime(df['reservation_status_date'])"
   ]
  },
  {
   "cell_type": "code",
   "execution_count": null,
   "id": "b2432253-13be-421f-bad9-0f599fe72052",
   "metadata": {},
   "outputs": [],
   "source": [
    "df.describe(include=\"object\")"
   ]
  },
  {
   "cell_type": "code",
   "execution_count": null,
   "id": "4804f596-95ef-46e1-ba85-42df213ea832",
   "metadata": {},
   "outputs": [],
   "source": [
    "for col in df.describe(include= \"object\").columns:\n",
    "    print(col)\n",
    "    print(df[col].unique())\n",
    "    print(\"-\"*50)\n",
    "    \n"
   ]
  },
  {
   "cell_type": "code",
   "execution_count": null,
   "id": "afc4f605-3e3b-4b7c-a085-a855824dc5d8",
   "metadata": {},
   "outputs": [],
   "source": [
    "df.isnull().sum()"
   ]
  },
  {
   "cell_type": "code",
   "execution_count": null,
   "id": "0e695597-bd88-4d06-876f-fa7044f2ddcd",
   "metadata": {},
   "outputs": [],
   "source": [
    "df.drop(['company','agent'],axis=1,inplace=True)"
   ]
  },
  {
   "cell_type": "code",
   "execution_count": null,
   "id": "15d8fb9d-5cf4-45c2-a83e-f339fb25327b",
   "metadata": {},
   "outputs": [],
   "source": [
    "df.dropna(inplace=True)"
   ]
  },
  {
   "cell_type": "code",
   "execution_count": null,
   "id": "131eb586-f14e-4901-aa25-3bfca30c576f",
   "metadata": {},
   "outputs": [],
   "source": [
    "df.isnull().sum()"
   ]
  },
  {
   "cell_type": "code",
   "execution_count": null,
   "id": "380fda07-3c9c-4b9d-9e8d-128552c4d6f6",
   "metadata": {},
   "outputs": [],
   "source": [
    "df.describe()"
   ]
  },
  {
   "cell_type": "code",
   "execution_count": null,
   "id": "a83a2119-bf39-4fde-b67d-b54f905b5a63",
   "metadata": {},
   "outputs": [],
   "source": [
    "df=df[df['adr']<5000]"
   ]
  },
  {
   "cell_type": "code",
   "execution_count": null,
   "id": "bc734859-0358-4008-83be-36f8dadcf2b0",
   "metadata": {},
   "outputs": [],
   "source": [
    "#Data Analysis and Visualizations"
   ]
  },
  {
   "cell_type": "code",
   "execution_count": null,
   "id": "8c847a58-2a1a-4f95-b2fa-d557da79257b",
   "metadata": {},
   "outputs": [],
   "source": [
    "cancelled_perc=df['is_canceled'].value_counts(normalize=True)\n",
    "print(cancelled_perc)\n",
    "\n",
    "plt.figure(figsize=(5,4))\n",
    "plt.title(\"Reservation Status Counts\")\n",
    "plt.bar(['Not canceled','canceled'], df['is_canceled'].value_counts(), edgecolor = 'k', width = 0.7)\n",
    "plt.show()\n"
   ]
  },
  {
   "cell_type": "code",
   "execution_count": null,
   "id": "c84566bd-156c-4f59-9916-10be91745cb9",
   "metadata": {},
   "outputs": [],
   "source": [
    "plt.figure(figsize=(8,4)) \n",
    "ax1= sns.countplot(x = 'hotel', hue=\"is_canceled\", data = df, palette = 'Blues') \n",
    "legend_labels,_= ax1. get_legend_handles_labels() \n",
    "ax1.legend(bbox_to_anchor=(1,1))\n",
    "plt.title('Reservation status in different hotels', size = 20)\n",
    "plt.xlabel(\"hotel\")\n",
    "plt.ylabel(\"number of reservations\")"
   ]
  },
  {
   "cell_type": "code",
   "execution_count": null,
   "id": "9c377f3a-6734-46c3-9615-99c8fd639ad1",
   "metadata": {},
   "outputs": [],
   "source": [
    "resort_hotel = df[df[\"hotel\"]==\"Resort Hotel\"] "
   ]
  },
  {
   "cell_type": "code",
   "execution_count": null,
   "id": "248b6557-75e9-4697-a622-19a5063abd9e",
   "metadata": {},
   "outputs": [],
   "source": [
    "resort_hotel['is_canceled'].value_counts(normalize=True)"
   ]
  },
  {
   "cell_type": "code",
   "execution_count": null,
   "id": "1811d0fb-8834-4921-8b38-23c93de0c3f6",
   "metadata": {},
   "outputs": [],
   "source": [
    "city_hotel = df[df[\"hotel\"]==\"City Hotel\"]\n",
    "city_hotel['is_canceled'].value_counts(normalize=True)"
   ]
  },
  {
   "cell_type": "code",
   "execution_count": null,
   "id": "d6f360a2-0541-4cbc-9845-cabdb7a6abfb",
   "metadata": {},
   "outputs": [],
   "source": [
    "resort_hotel= resort_hotel.groupby('reservation_status_date')[['adr']].mean()"
   ]
  },
  {
   "cell_type": "code",
   "execution_count": null,
   "id": "5e1be745-adce-4e39-bf24-ecc09d685336",
   "metadata": {},
   "outputs": [],
   "source": [
    "city_hotel= city_hotel.groupby('reservation_status_date')[['adr']].mean()"
   ]
  },
  {
   "cell_type": "code",
   "execution_count": null,
   "id": "cf4275b4-34a3-4cfe-b134-a1cc8fa12067",
   "metadata": {},
   "outputs": [],
   "source": [
    "plt.figure(figsize=(20,7))\n",
    "plt.title(\"Average daily rate in Resort and City Hotel\",fontsize=30)\n",
    "plt.plot(resort_hotel.index,resort_hotel['adr'],label='Resort_Hotel')\n",
    "plt.plot(city_hotel.index,city_hotel['adr'],label='City_Hotel')\n",
    "plt.legend(fontsize=20)\n",
    "plt.show()"
   ]
  },
  {
   "cell_type": "code",
   "execution_count": null,
   "id": "bd6ba47a-e1e6-4488-a61d-3eadac247341",
   "metadata": {},
   "outputs": [],
   "source": [
    "df['month']= df['reservation_status_date'].dt.month\n",
    "plt.figure(figsize=(16,8))\n",
    "ax1=sns.countplot(x='month', hue='is_canceled',data=df,palette=\"bright\")\n",
    "legend_labels,_= ax1. get_legend_handles_labels() \n",
    "ax1.legend(bbox_to_anchor=(1,1))\n",
    "plt.title('Reservation status per Month', size = 20)\n",
    "plt.xlabel(\"Months\")\n",
    "plt.ylabel([\"Not canceled\", \"Canceled\"])\n",
    "plt.show()"
   ]
  },
  {
   "cell_type": "code",
   "execution_count": null,
   "id": "8ef3a2f0-7202-422a-a969-1bf64267d00d",
   "metadata": {},
   "outputs": [],
   "source": [
    "plt.figure(figsize = (15,8))\n",
    "plt.title(\"ADR per month\", fontsize = 30)\n",
    "sns.barplot(x='month',y='adr', data= df[df['is_canceled'] == 1].groupby('month')[['adr']].sum().reset_index())\n",
    "#plt.legend(fontsize = 20)\n",
    "plt.show()"
   ]
  },
  {
   "cell_type": "code",
   "execution_count": null,
   "id": "d478956f-7246-42e1-9688-744b9b6b4b1c",
   "metadata": {},
   "outputs": [],
   "source": [
    "cancelled_data = df[df['is_canceled']==1]\n",
    "top_10_country = cancelled_data['country'].value_counts()[:10]\n",
    "plt.figure(figsize = (8,8))\n",
    "plt.title('top 10 countries with reservation canceled')\n",
    "plt.pie(top_10_country,autopct = '%.2f',labels=top_10_country.index)\n",
    "plt.show()\n"
   ]
  },
  {
   "cell_type": "code",
   "execution_count": null,
   "id": "46d56e04-4f69-4a1f-ab32-b1df461de9b1",
   "metadata": {},
   "outputs": [],
   "source": [
    "df['market_segment'].value_counts()"
   ]
  },
  {
   "cell_type": "code",
   "execution_count": null,
   "id": "62d61d76-3cb0-4120-b48a-37a6ae5c4e3d",
   "metadata": {},
   "outputs": [],
   "source": [
    "df['market_segment'].value_counts(normalize=True)"
   ]
  },
  {
   "cell_type": "code",
   "execution_count": null,
   "id": "ae4764d7-8f2d-417e-a357-accf28c68cb0",
   "metadata": {},
   "outputs": [],
   "source": [
    "cancelled_data['market_segment'].value_counts(normalize=True)"
   ]
  },
  {
   "cell_type": "code",
   "execution_count": null,
   "id": "a0345170-be92-4364-9ddb-08215d4f08f2",
   "metadata": {},
   "outputs": [],
   "source": [
    "cancelled_df_adr = cancelled_data.groupby('reservation_status_date')[['adr']].mean()\n",
    "cancelled_df_adr.reset_index(inplace=True)\n",
    "cancelled_df_adr.sort_values('reservation_status_date', inplace=True)\n",
    "\n",
    "not_cancelled_data= df[df['is_canceled'] == 0]\n",
    "not_cancelled_df_adr = not_cancelled_data.groupby('reservation_status_date')[['adr']].mean()\n",
    "not_cancelled_df_adr.reset_index(inplace=True)\n",
    "not_cancelled_df_adr.sort_values('reservation_status_date', inplace=True)\n",
    "\n",
    "plt.figure(figsize= (20,6))\n",
    "plt.title('Average Daily Rate')\n",
    "plt.plot(not_cancelled_df_adr['reservation_status_date'],not_cancelled_df_adr['adr'], label= 'not cancelled')\n",
    "plt.plot(cancelled_df_adr['reservation_status_date'],cancelled_df_adr['adr'], label= 'cancelled')\n",
    "plt.legend()"
   ]
  },
  {
   "cell_type": "code",
   "execution_count": null,
   "id": "257dabe4-6e8e-462d-bfcc-efb56c0a2e37",
   "metadata": {},
   "outputs": [],
   "source": [
    "cancelled_df_adr = cancelled_df_adr[(cancelled_df_adr['reservation_status_date']>'2016')&(cancelled_df_adr['reservation_status_date']<'2017-09')]\n",
    "not_cancelled_df_adr = not_cancelled_df_adr[(not_cancelled_df_adr['reservation_status_date']>'2016')&(not_cancelled_df_adr['reservation_status_date']<'2017-09')]"
   ]
  },
  {
   "cell_type": "code",
   "execution_count": null,
   "id": "7e4e8956-d73b-4efc-b1b2-d8e6a9477fcc",
   "metadata": {},
   "outputs": [],
   "source": [
    "plt.figure(figsize= (20,6))\n",
    "plt.title('Average Daily Rate',fontsize= 30)\n",
    "plt.plot(not_cancelled_df_adr['reservation_status_date'],not_cancelled_df_adr['adr'], label= 'not cancelled')\n",
    "plt.plot(cancelled_df_adr['reservation_status_date'],cancelled_df_adr['adr'], label= 'cancelled')\n",
    "plt.legend(fontsize= 20)\n",
    "plt.show()"
   ]
  },
  {
   "cell_type": "code",
   "execution_count": null,
   "id": "2e0562ac-f628-4143-8ebc-08ae603cc532",
   "metadata": {},
   "outputs": [],
   "source": []
  }
 ],
 "metadata": {
  "kernelspec": {
   "display_name": "Python 3 (ipykernel)",
   "language": "python",
   "name": "python3"
  },
  "language_info": {
   "codemirror_mode": {
    "name": "ipython",
    "version": 3
   },
   "file_extension": ".py",
   "mimetype": "text/x-python",
   "name": "python",
   "nbconvert_exporter": "python",
   "pygments_lexer": "ipython3",
   "version": "3.9.7"
  }
 },
 "nbformat": 4,
 "nbformat_minor": 5
}
